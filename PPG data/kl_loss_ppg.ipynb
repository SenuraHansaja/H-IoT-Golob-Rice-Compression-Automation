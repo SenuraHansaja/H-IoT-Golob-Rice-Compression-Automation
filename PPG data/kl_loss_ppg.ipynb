{
 "cells": [
  {
   "cell_type": "markdown",
   "metadata": {},
   "source": [
    "### this is used to calculate the information loss of the data after filtering and before\n",
    "to check if the filering affect the information content"
   ]
  },
  {
   "cell_type": "code",
   "execution_count": 9,
   "metadata": {},
   "outputs": [],
   "source": [
    "import numpy as np\n",
    "import mne\n",
    "import matplotlib.pyplot as plt\n",
    "import math\n",
    "from golomb_code import encode, decode\n",
    "from scipy.stats import entropy\n",
    "from scipy.spatial.distance import cosine\n",
    "import torch\n",
    "import pandas as pd\n",
    "import torch.nn.functional as F\n",
    "from butterworth import butter_bandpass_filter_zi"
   ]
  },
  {
   "cell_type": "code",
   "execution_count": 8,
   "metadata": {},
   "outputs": [
    {
     "data": {
      "text/html": [
       "<div>\n",
       "<style scoped>\n",
       "    .dataframe tbody tr th:only-of-type {\n",
       "        vertical-align: middle;\n",
       "    }\n",
       "\n",
       "    .dataframe tbody tr th {\n",
       "        vertical-align: top;\n",
       "    }\n",
       "\n",
       "    .dataframe thead th {\n",
       "        text-align: right;\n",
       "    }\n",
       "</style>\n",
       "<table border=\"1\" class=\"dataframe\">\n",
       "  <thead>\n",
       "    <tr style=\"text-align: right;\">\n",
       "      <th></th>\n",
       "      <th>1649438306</th>\n",
       "      <th>Unnamed: 1</th>\n",
       "      <th>Unnamed: 2</th>\n",
       "      <th>Unnamed: 3</th>\n",
       "    </tr>\n",
       "  </thead>\n",
       "  <tbody>\n",
       "    <tr>\n",
       "      <th>25770</th>\n",
       "      <td>104</td>\n",
       "      <td>72048.0</td>\n",
       "      <td>249661.0</td>\n",
       "      <td>265228.0</td>\n",
       "    </tr>\n",
       "    <tr>\n",
       "      <th>25771</th>\n",
       "      <td>104</td>\n",
       "      <td>72081.0</td>\n",
       "      <td>249685.0</td>\n",
       "      <td>265260.0</td>\n",
       "    </tr>\n",
       "    <tr>\n",
       "      <th>25772</th>\n",
       "      <td>104</td>\n",
       "      <td>72114.0</td>\n",
       "      <td>249708.0</td>\n",
       "      <td>265263.0</td>\n",
       "    </tr>\n",
       "    <tr>\n",
       "      <th>25773</th>\n",
       "      <td>104</td>\n",
       "      <td>72124.0</td>\n",
       "      <td>249667.0</td>\n",
       "      <td>265198.0</td>\n",
       "    </tr>\n",
       "    <tr>\n",
       "      <th>25774</th>\n",
       "      <td>104</td>\n",
       "      <td>72100.0</td>\n",
       "      <td>249576.0</td>\n",
       "      <td>265097.0</td>\n",
       "    </tr>\n",
       "  </tbody>\n",
       "</table>\n",
       "</div>"
      ],
      "text/plain": [
       "       1649438306  Unnamed: 1  Unnamed: 2  Unnamed: 3\n",
       "25770         104     72048.0    249661.0    265228.0\n",
       "25771         104     72081.0    249685.0    265260.0\n",
       "25772         104     72114.0    249708.0    265263.0\n",
       "25773         104     72124.0    249667.0    265198.0\n",
       "25774         104     72100.0    249576.0    265097.0"
      ]
     },
     "execution_count": 8,
     "metadata": {},
     "output_type": "execute_result"
    }
   ],
   "source": [
    "'''\n",
    "each column represent the one light source in the ppg sensor\n",
    "sampling rate is 24 samples per second which is ideal as the ppg relies between 0.5 and 5hz\n",
    "'''\n",
    "\n",
    "data = pd.read_csv('0000.csv')\n",
    "data = data.dropna(inplace=False)\n",
    "data.tail()"
   ]
  },
  {
   "cell_type": "code",
   "execution_count": 16,
   "metadata": {},
   "outputs": [
    {
     "data": {
      "text/plain": [
       "3"
      ]
     },
     "execution_count": 16,
     "metadata": {},
     "output_type": "execute_result"
    }
   ],
   "source": [
    "##filter parameters\n",
    "lowcut = 0.5\n",
    "highcut = 12\n",
    "orders = 2\n",
    "\n",
    "Butterworth_data_1 = butter_bandpass_filter_zi(data['Unnamed: 1'][:1000], lowcut, highcut, 25, order=orders)\n",
    "Butterworth_data_2 = butter_bandpass_filter_zi(data['Unnamed: 2'][:1000], lowcut, highcut, 25, order=orders)\n",
    "Butterworth_data_3 = butter_bandpass_filter_zi(data['Unnamed: 3'][:1000], lowcut, highcut, 25, order=orders)\n",
    "butter_data = [Butterworth_data_1, Butterworth_data_2, Butterworth_data_3]\n",
    "len(butter_data)"
   ]
  },
  {
   "cell_type": "code",
   "execution_count": 22,
   "metadata": {},
   "outputs": [
    {
     "name": "stdout",
     "output_type": "stream",
     "text": [
      "channel 1 cosine loss -  1.0045796781448393\n",
      "channel 2 cosine loss -  1.0027952896808423\n",
      "channel 3 cosine loss -  1.0017947218859793\n"
     ]
    }
   ],
   "source": [
    "for i in range(3):\n",
    "    column_name = f'Unnamed: {i+1}'\n",
    "    cos_loss = cosine(data[column_name][:1000], butter_data[int(i)])\n",
    "    print(f'channel {i+1} cosine loss - ', cos_loss)\n",
    "    ##the results look much better"
   ]
  },
  {
   "cell_type": "markdown",
   "metadata": {},
   "source": [
    "## kl loss between the ppg data"
   ]
  }
 ],
 "metadata": {
  "kernelspec": {
   "display_name": "Python 3",
   "language": "python",
   "name": "python3"
  },
  "language_info": {
   "codemirror_mode": {
    "name": "ipython",
    "version": 3
   },
   "file_extension": ".py",
   "mimetype": "text/x-python",
   "name": "python",
   "nbconvert_exporter": "python",
   "pygments_lexer": "ipython3",
   "version": "3.10.12"
  }
 },
 "nbformat": 4,
 "nbformat_minor": 2
}
