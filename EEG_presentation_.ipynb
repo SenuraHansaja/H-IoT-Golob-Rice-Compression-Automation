{
  "nbformat": 4,
  "nbformat_minor": 0,
  "metadata": {
    "colab": {
      "provenance": []
    },
    "kernelspec": {
      "name": "python3",
      "display_name": "Python 3"
    },
    "language_info": {
      "name": "python"
    }
  },
  "cells": [
    {
      "cell_type": "code",
      "execution_count": null,
      "metadata": {
        "id": "OSsxTQHRZrkG",
        "colab": {
          "base_uri": "https://localhost:8080/"
        },
        "outputId": "304fbbf4-6ef0-45ec-f730-55aca949e8b3",
        "cellView": "form"
      },
      "outputs": [
        {
          "output_type": "stream",
          "name": "stdout",
          "text": [
            "Looking in indexes: https://pypi.org/simple, https://us-python.pkg.dev/colab-wheels/public/simple/\n",
            "Requirement already satisfied: mne in /usr/local/lib/python3.9/dist-packages (1.3.1)\n",
            "Requirement already satisfied: jinja2 in /usr/local/lib/python3.9/dist-packages (from mne) (3.1.2)\n",
            "Requirement already satisfied: scipy>=1.1.0 in /usr/local/lib/python3.9/dist-packages (from mne) (1.10.1)\n",
            "Requirement already satisfied: tqdm in /usr/local/lib/python3.9/dist-packages (from mne) (4.65.0)\n",
            "Requirement already satisfied: matplotlib in /usr/local/lib/python3.9/dist-packages (from mne) (3.7.1)\n",
            "Requirement already satisfied: numpy>=1.15.4 in /usr/local/lib/python3.9/dist-packages (from mne) (1.22.4)\n",
            "Requirement already satisfied: packaging in /usr/local/lib/python3.9/dist-packages (from mne) (23.0)\n",
            "Requirement already satisfied: decorator in /usr/local/lib/python3.9/dist-packages (from mne) (4.4.2)\n",
            "Requirement already satisfied: pooch>=1.5 in /usr/local/lib/python3.9/dist-packages (from mne) (1.6.0)\n",
            "Requirement already satisfied: requests>=2.19.0 in /usr/local/lib/python3.9/dist-packages (from pooch>=1.5->mne) (2.27.1)\n",
            "Requirement already satisfied: appdirs>=1.3.0 in /usr/local/lib/python3.9/dist-packages (from pooch>=1.5->mne) (1.4.4)\n",
            "Requirement already satisfied: MarkupSafe>=2.0 in /usr/local/lib/python3.9/dist-packages (from jinja2->mne) (2.1.2)\n",
            "Requirement already satisfied: fonttools>=4.22.0 in /usr/local/lib/python3.9/dist-packages (from matplotlib->mne) (4.39.2)\n",
            "Requirement already satisfied: cycler>=0.10 in /usr/local/lib/python3.9/dist-packages (from matplotlib->mne) (0.11.0)\n",
            "Requirement already satisfied: pillow>=6.2.0 in /usr/local/lib/python3.9/dist-packages (from matplotlib->mne) (8.4.0)\n",
            "Requirement already satisfied: importlib-resources>=3.2.0 in /usr/local/lib/python3.9/dist-packages (from matplotlib->mne) (5.12.0)\n",
            "Requirement already satisfied: contourpy>=1.0.1 in /usr/local/lib/python3.9/dist-packages (from matplotlib->mne) (1.0.7)\n",
            "Requirement already satisfied: kiwisolver>=1.0.1 in /usr/local/lib/python3.9/dist-packages (from matplotlib->mne) (1.4.4)\n",
            "Requirement already satisfied: python-dateutil>=2.7 in /usr/local/lib/python3.9/dist-packages (from matplotlib->mne) (2.8.2)\n",
            "Requirement already satisfied: pyparsing>=2.3.1 in /usr/local/lib/python3.9/dist-packages (from matplotlib->mne) (3.0.9)\n",
            "Requirement already satisfied: zipp>=3.1.0 in /usr/local/lib/python3.9/dist-packages (from importlib-resources>=3.2.0->matplotlib->mne) (3.15.0)\n",
            "Requirement already satisfied: six>=1.5 in /usr/local/lib/python3.9/dist-packages (from python-dateutil>=2.7->matplotlib->mne) (1.16.0)\n",
            "Requirement already satisfied: charset-normalizer~=2.0.0 in /usr/local/lib/python3.9/dist-packages (from requests>=2.19.0->pooch>=1.5->mne) (2.0.12)\n",
            "Requirement already satisfied: idna<4,>=2.5 in /usr/local/lib/python3.9/dist-packages (from requests>=2.19.0->pooch>=1.5->mne) (3.4)\n",
            "Requirement already satisfied: urllib3<1.27,>=1.21.1 in /usr/local/lib/python3.9/dist-packages (from requests>=2.19.0->pooch>=1.5->mne) (1.26.15)\n",
            "Requirement already satisfied: certifi>=2017.4.17 in /usr/local/lib/python3.9/dist-packages (from requests>=2.19.0->pooch>=1.5->mne) (2022.12.7)\n",
            "Mounted at /content/drive\n"
          ]
        }
      ],
      "source": [
        "#@title Installing the Dependencies\n",
        "!pip install mne\n",
        "import mne\n",
        "import numpy as np\n",
        "import os\n",
        "import matplotlib.pyplot as plt\n",
        "import math\n",
        "from google.colab import drive\n",
        "drive.mount('/content/drive',force_remount=True)"
      ]
    },
    {
      "cell_type": "code",
      "source": [
        "file = \"drive//MyDrive//RAW//edf_export//data.edf\"\n",
        "data = mne.io.read_raw_edf(file) #filetered eeg loading using the 3rd party libararies\n",
        "#\n",
        "\n",
        "info = data.info\n",
        "channels = data.ch_names\n",
        "size = os.path.getsize(file)\n",
        "data"
      ],
      "metadata": {
        "colab": {
          "base_uri": "https://localhost:8080/",
          "height": 368
        },
        "id": "gt-EciWeaAtC",
        "outputId": "771b0750-b323-40ee-e759-4f3678a8341f"
      },
      "execution_count": null,
      "outputs": [
        {
          "output_type": "stream",
          "name": "stdout",
          "text": [
            "Extracting EDF parameters from /content/drive/MyDrive/RAW/edf_export/data.edf...\n",
            "EDF file detected\n",
            "Setting channel info structure...\n",
            "Creating raw.info structure...\n"
          ]
        },
        {
          "output_type": "execute_result",
          "data": {
            "text/plain": [
              "<RawEDF | data.edf, 6 x 128750 (1030.0 s), ~11 kB, data not loaded>"
            ],
            "text/html": [
              "<table class=\"table table-hover table-striped table-sm table-responsive small\">\n",
              "    <tr>\n",
              "        <th>Measurement date</th>\n",
              "        \n",
              "        <td>April 09, 2022  00:18:26 GMT</td>\n",
              "        \n",
              "    </tr>\n",
              "    <tr>\n",
              "        <th>Experimenter</th>\n",
              "        \n",
              "        <td>Unknown</td>\n",
              "        \n",
              "    </tr>\n",
              "        <th>Participant</th>\n",
              "        \n",
              "        <td>Unknown</td>\n",
              "        \n",
              "    </tr>\n",
              "    <tr>\n",
              "        <th>Digitized points</th>\n",
              "        \n",
              "        <td>Not available</td>\n",
              "        \n",
              "    </tr>\n",
              "    <tr>\n",
              "        <th>Good channels</th>\n",
              "        <td>6 EEG</td>\n",
              "    </tr>\n",
              "    <tr>\n",
              "        <th>Bad channels</th>\n",
              "        <td>None</td>\n",
              "    </tr>\n",
              "    <tr>\n",
              "        <th>EOG channels</th>\n",
              "        <td>Not available</td>\n",
              "    </tr>\n",
              "    <tr>\n",
              "        <th>ECG channels</th>\n",
              "        <td>Not available</td>\n",
              "    \n",
              "    <tr>\n",
              "        <th>Sampling frequency</th>\n",
              "        <td>125.00 Hz</td>\n",
              "    </tr>\n",
              "    \n",
              "    \n",
              "    <tr>\n",
              "        <th>Highpass</th>\n",
              "        <td>0.00 Hz</td>\n",
              "    </tr>\n",
              "    \n",
              "    \n",
              "    <tr>\n",
              "        <th>Lowpass</th>\n",
              "        <td>62.50 Hz</td>\n",
              "    </tr>\n",
              "    \n",
              "    \n",
              "    \n",
              "    <tr>\n",
              "        <th>Filenames</th>\n",
              "        <td>data.edf</td>\n",
              "    </tr>\n",
              "    \n",
              "    <tr>\n",
              "        <th>Duration</th>\n",
              "        <td>00:17:10 (HH:MM:SS)</td>\n",
              "    </tr>\n",
              "</table>"
            ]
          },
          "metadata": {},
          "execution_count": 3
        }
      ]
    },
    {
      "cell_type": "code",
      "source": [
        "channels"
      ],
      "metadata": {
        "colab": {
          "base_uri": "https://localhost:8080/"
        },
        "id": "URHgJShda1L2",
        "outputId": "650d783d-f902-42b8-d79d-f247a9ea593a"
      },
      "execution_count": null,
      "outputs": [
        {
          "output_type": "execute_result",
          "data": {
            "text/plain": [
              "['ch1_LF5-FpZ',\n",
              " 'ch2_OTE_L-FpZ',\n",
              " 'ch3_BE_L-FpZ',\n",
              " 'ch4_RF6-FpZ',\n",
              " 'ch5_OTE_R-FpZ',\n",
              " 'ch6_BE_R-FpZ']"
            ]
          },
          "metadata": {},
          "execution_count": 4
        }
      ]
    },
    {
      "cell_type": "code",
      "source": [
        "#@title PSD of the EEG signal\n",
        "data.compute_psd(fmax=60).plot()"
      ],
      "metadata": {
        "colab": {
          "base_uri": "https://localhost:8080/",
          "height": 312
        },
        "id": "I1wOkM1PaWcB",
        "outputId": "e8ae3346-7953-44e8-e0c9-381dae901a5d"
      },
      "execution_count": null,
      "outputs": [
        {
          "output_type": "stream",
          "name": "stdout",
          "text": [
            "Effective window size : 2.048 (s)\n"
          ]
        },
        {
          "output_type": "stream",
          "name": "stderr",
          "text": [
            "<ipython-input-5-8d6ea3507856>:2: RuntimeWarning: Channel locations not available. Disabling spatial colors.\n",
            "  data.compute_psd(fmax=60).plot()\n"
          ]
        },
        {
          "output_type": "execute_result",
          "data": {
            "text/plain": [
              "<MNELineFigure size 720x252 with 1 Axes>"
            ],
            "image/png": "[encoded data removed]"
          },
          "metadata": {},
          "execution_count": 5
        }
      ]
    },
    {
      "cell_type": "markdown",
      "source": [
        "# **ABOVE DATA IS FILTERED BY THE POLYMAN SOFTWARE FOR VISUALISING PURPOSE**"
      ],
      "metadata": {
        "id": "llrUuQd7duZD"
      }
    },
    {
      "cell_type": "markdown",
      "source": [
        "IMPLEMENTATION IN GOLOMB RICE CODE"
      ],
      "metadata": {
        "id": "uuvxWN08d1SY"
      }
    },
    {
      "cell_type": "code",
      "source": [
        "EEG_raw_data = data.get_data()\n",
        "SCALE=1e3\n",
        "raw_data= EEG_raw_data*SCALE\n",
        "MAX_LENGTH=10000\n",
        "DATA_OFFSET=2000;     # data offset\n",
        "N_HIST_BIN=100\n",
        "\n",
        "#EEG channel 1\n",
        "channel_id=0"
      ],
      "metadata": {
        "id": "gYJ9DVLkeIFR"
      },
      "execution_count": null,
      "outputs": []
    },
    {
      "cell_type": "code",
      "source": [
        "channel_id = 3\n",
        "EEG_MAX=0.01;         #  asummed max value of EEG signal\n",
        "EEG_MAX_INT=2^23-1    # using 24 bit ADC, the max value of EEG is corresponding to 2^23-1\n",
        "\n",
        "x=np.round(raw_data[channel_id,DATA_OFFSET:DATA_OFFSET-1+MAX_LENGTH]/EEG_MAX*(2^23-1))\n",
        "plt.plot(x)\n",
        "plt.ylabel(\"ADC interger value\")\n",
        "\n",
        "plt.xlabel(\"samples\")\n",
        "plt.show()\n",
        "import sys\n",
        "print(sys.getsizeof(x))"
      ],
      "metadata": {
        "colab": {
          "base_uri": "https://localhost:8080/",
          "height": 297
        },
        "id": "SS3hXRRtfV3-",
        "outputId": "fddac91b-3e06-40c9-856d-560ac9c0a338"
      },
      "execution_count": null,
      "outputs": [
        {
          "output_type": "display_data",
          "data": {
            "text/plain": [
              "<Figure size 432x288 with 1 Axes>"
            ],
            "image/png": "[encoded data removed]"
          },
          "metadata": {
            "needs_background": "light"
          }
        },
        {
          "output_type": "stream",
          "name": "stdout",
          "text": [
            "80104\n"
          ]
        }
      ]
    },
    {
      "cell_type": "markdown",
      "source": [
        "**Golomb Code**"
      ],
      "metadata": {
        "id": "qeiovfKHgzLS"
      }
    },
    {
      "cell_type": "code",
      "source": [
        "# Golomb Code\n",
        "# channel 2 and 5 are not used\n",
        "# start compression\n",
        "#Preparation\n",
        "\n",
        "\n",
        "N= 500    # number of parameters;\n",
        "b=10   # golomb parameter\n",
        "M=math.pow(2,b)   #1024= 2^10      # Golomb parameter\n",
        "codeStream=\"\"\n",
        "codeStream_debug=\"\"\n",
        "#Step 1: calculate the differential\n",
        "y=x[0:N-1]-x[1:N]                     #if we comment this line we can get the raw singals\n",
        "z=[0]*N\n",
        "r=[0]*N\n",
        "q=[0]*N\n",
        "# Step 2: Convert to all positive values\n",
        "for k in range (N-1):\n",
        "    if y[k]>=0 :\n",
        "        z[k]=2*y[k]\n",
        "    else :\n",
        "        z[k]=-2*y[k]-1\n",
        "    # Step 3: Golomb code\n",
        "\n",
        "    #def golomb(codeword,m):\n",
        "    c = int(math.ceil(math.log(M,2)))  # for the formulas refer wikipedia page link in the readme file\n",
        "    #calculate quotient, remainder\n",
        "    r[k] = int(z[k]%M)\n",
        "    q[k] = int(math.floor(z[k]/M))\n",
        "\n",
        "    div = int(math.pow(2,c)-M)\n",
        "\n",
        "    #Step 4.1: quotient is put in unary code\n",
        "    quotientBit = \"\"\n",
        "    remainderBit=\"\"\n",
        "    a=\"\"\n",
        "    for i in range(q[k]):\n",
        "        quotientBit = quotientBit + \"1\"\n",
        "    quotientBit = quotientBit + \"0\"\n",
        "    #     print(\"First:\",first)\n",
        "    #Step 4.2: remainder is in binary mode\n",
        "    if r[k] < div:\n",
        "        b = c-1\n",
        "        a = \"{0:0\" + str(b) + \"b}\"\n",
        "        #print(\"1\",a.format(r[k]))\n",
        "        remainderBit = a.format(r[k])\n",
        "    else:\n",
        "        b = c\n",
        "        a = \"{0:0\" + str(b) + \"b}\"\n",
        "        #print(\"2\",a.format(r[k] + div))\n",
        "        remainderBit = a.format(r[k] + div)\n",
        "\n",
        "    codeStream_debug = codeStream_debug + quotientBit + \".\"+ remainderBit +\"|\"\n",
        "    codeStream = codeStream + quotientBit + remainderBit\n"
      ],
      "metadata": {
        "id": "JEf15sByg3B4"
      },
      "execution_count": null,
      "outputs": []
    },
    {
      "cell_type": "markdown",
      "source": [
        "# **Decompression**"
      ],
      "metadata": {
        "id": "XlkeMLAFlQOh"
      }
    },
    {
      "cell_type": "code",
      "source": [
        "Q_read = 1\n",
        "R_read = 0\n",
        "\n",
        "q_part = \"\"\n",
        "r_part = \"\"\n",
        "\n",
        "q_val = []\n",
        "r_val = []\n",
        "\n",
        "\n",
        "counter = 10 #this is the golomb remainder parametere which is the lenght of the remainder\n",
        "\n",
        "for i in codeStream:\n",
        "  if (Q_read == 1 and i == '1'):\n",
        "    q_part = q_part + '1'\n",
        "  if (Q_read == 1 and i == '0'):\n",
        "    q_val.append(q_part)\n",
        "    q_part = \"\"\n",
        "    # q_part = q_part + '0'\n",
        "    # q_val.append(q_part)\n",
        "    R_read = 1\n",
        "    Q_read = 0\n",
        "    continue\n",
        "  if (R_read and counter >0):\n",
        "    r_part = r_part + i\n",
        "    counter = counter -1\n",
        "    if (counter ==0):\n",
        "      r_val.append(r_part)\n",
        "      r_part = \"\"\n",
        "      R_read = 0\n",
        "      Q_read = 1\n",
        "      counter = 10 ## again ssetting it to the proper value (remainder this values setting must be done properly otherwise results would be fatal)"
      ],
      "metadata": {
        "id": "xelWvtSflGPZ"
      },
      "execution_count": null,
      "outputs": []
    },
    {
      "cell_type": "code",
      "source": [
        "print(codeStream_debug)\n",
        "print(q_val)\n",
        "print(r_val)"
      ],
      "metadata": {
        "colab": {
          "base_uri": "https://localhost:8080/"
        },
        "id": "VEy1MsSnlX8M",
        "outputId": "83112abf-81c9-491e-a665-e507bdc8d22a"
      },
      "execution_count": null,
      "outputs": [
        {
          "output_type": "stream",
          "name": "stdout",
          "text": [
            "0.0000001111|0.0000100100|0.0000000011|0.0000001111|0.0000000000|0.0000001111|0.0000010110|0.0000000000|0.0000000011|0.0000001000|0.0000001111|0.0000100000|0.0000000011|0.0000010011|0.0000000100|0.0000010111|0.0000100100|0.0000000111|0.0000001001|0.0000000000|0.0000001111|0.0000001000|0.0000000111|0.0000000000|0.0000010100|0.0000001011|0.0000010000|0.0000001011|0.0000000100|0.0000000100|0.0000010001|0.0000011000|0.0000000111|0.0000000000|0.0000001100|0.0000010111|0.0000010000|0.0000000011|0.0000000100|0.0000010100|0.0000000111|0.0000000000|0.0000000011|0.0000000010|0.0000000100|0.0000000111|0.0000010000|0.0000000000|0.0000000011|0.0000010000|0.0000000111|0.0000001100|0.0000001111|0.0000000011|0.0000000000|0.0000010101|0.0000010100|0.0000000011|0.0000001100|0.0000000100|0.0000001111|0.0000011100|0.0000001111|0.0000000000|0.0000001000|0.0000101101|0.0000001000|0.0000011111|0.0000100011|0.0000100111|0.0000010111|0.0000000100|0.0000000111|0.0000000000|0.0000000000|0.0000011001|0.0000011010|0.0000001101|0.0000000100|0.0000000000|0.0000001111|0.0000010000|0.0000001111|0.0000001100|0.0000010000|0.0000010011|0.0000000010|0.0000000011|0.0000001100|0.0000001000|0.0000011011|0.0000010100|0.0000001011|0.0000110000|0.0000011000|0.0000100010|0.0000101100|0.0000100100|0.0000001011|0.0000000000|0.0000001111|0.0000010000|0.0000001011|0.0000000101|0.0000001000|0.0000011011|0.0000011100|0.0000000011|0.0000000000|0.0000000000|0.0000010011|0.0000100110|0.0000001011|0.0000000100|0.0000000011|0.0000000111|0.0000001100|0.0000000111|0.0000000100|0.0000000110|0.0000001111|0.0000001100|0.0000000011|0.0000000000|0.0000010000|0.0000010111|0.0000010110|0.0000000111|0.0000000000|0.0000000011|0.0000000111|0.0000010000|0.0000000011|0.0000001101|0.0000000100|0.0000001011|0.0000001000|0.0000001111|0.0000000010|0.0000000011|0.0000010011|0.0000100000|0.0000000011|0.0000000000|0.0000001011|0.0000001101|0.0000010000|0.0000000000|0.0000001100|0.0000000011|0.0000001011|0.0000010010|0.0000000011|0.0000000100|0.0000001100|0.0000000000|0.0000010000|0.0000010001|0.0000011000|0.0000000000|0.0000010111|0.0000010100|0.0000000101|0.0000010000|0.0000001000|0.0000001111|0.0000001100|0.0000001001|0.0000001000|0.0000000000|0.0000010111|0.0000011100|0.0000000101|0.0000001100|0.0000000100|0.0000010011|0.0000010000|0.0000000001|0.0000001000|0.0000000011|0.0000010011|0.0000010000|0.0000001010|0.0000000111|0.0000000011|0.0000001011|0.0000010100|0.0000011001|0.0000010000|0.0000000011|0.0000000011|0.0000001010|0.0000000000|0.0000010000|0.0000000011|0.0000001011|0.0000001110|0.0000001011|0.0000001100|0.0000001000|0.0000010001|0.0000001000|0.0000010011|0.0000001100|0.0000000001|0.0000000111|0.0000011100|0.0000001111|0.0000000001|0.0000001100|0.0000000111|0.0000001100|0.0000001101|0.0000001000|0.0000000011|0.0000001011|0.0000010110|0.0000000111|0.0000001000|0.0000000101|0.0000000111|0.0000000100|0.0000000011|0.0000000110|0.0000000011|0.0000000011|0.0000001010|0.0000000011|0.0000001000|0.0000000011|0.0000000101|0.0000000100|0.0000010011|0.0000010100|0.0000000001|0.0000000111|0.0000001000|0.0000000101|0.0000001100|0.0000000111|0.0000010001|0.0000001100|0.0000001011|0.0000001010|0.0000000011|0.0000000111|0.0000010010|0.0000010011|0.0000010000|0.0000001001|0.0000000000|0.0000000000|0.0000000001|0.0000001000|0.0000001100|0.0000010101|0.0000000100|0.0000001011|0.0000010010|0.0000000011|0.0000001111|0.0000000010|0.0000001011|0.0000011010|0.0000000100|0.0000001111|0.0000000110|0.0000000000|0.0000001100|0.0000000101|0.0000001011|0.0000001110|0.0000001011|0.0000001000|0.0000001001|0.0000000011|0.0000001000|0.0000001101|0.0000010000|0.0000000110|0.0000010011|0.0000000110|0.0000000011|0.0000010000|0.0000000101|0.0000001011|0.0000001110|0.0000001011|0.0000000110|0.0000001011|0.0000001111|0.0000010110|0.0000001011|0.0000010110|0.0000000011|0.0000001101|0.0000001000|0.0000001101|0.0000010000|0.0000000001|0.0000000111|0.0000001000|0.0000000101|0.0000001100|0.0000000101|0.0000000011|0.0000000010|0.0000001111|0.0000010110|0.0000000111|0.0000010001|0.0000001000|0.0000000001|0.0000010000|0.0000010001|0.0000000000|0.0000010010|0.0000010011|0.0000001110|0.0000001011|0.0000000101|0.0000000000|0.0000010101|0.0000010000|0.0000000110|0.0000001111|0.0000000101|0.0000001011|0.0000011010|0.0000010001|0.0000000111|0.0000001110|0.0000001011|0.0000001110|0.0000000111|0.0000010001|0.0000001100|0.0000010101|0.0000010110|0.0000001011|0.0000000001|0.0000000100|0.0000001101|0.0000001000|0.0000000001|0.0000000000|0.0000001110|0.0000001001|0.0000001100|0.0000000101|0.0000000000|0.0000001010|0.0000011101|0.0000010000|0.0000000110|0.0000000011|0.0000000101|0.0000010001|0.0000010000|0.0000000101|0.0000000111|0.0000001010|0.0000011001|0.0000010000|0.0000000110|0.0000000100|0.0000001001|0.0000100001|0.0000100100|0.0000000101|0.0000000000|0.0000000010|0.0000001101|0.0000001100|0.0000000101|0.0000001000|0.0000000010|0.0000001001|0.0000010000|0.0000000101|0.0000000101|0.0000000011|0.0000001101|0.0000011000|0.0000010101|0.0000000001|0.0000001100|0.0000010101|0.0000010110|0.0000000111|0.0000000001|0.0000001000|0.0000001001|0.0000000001|0.0000000100|0.0000000001|0.0000001000|0.0000011101|0.0000011010|0.0000000111|0.0000000110|0.0000000010|0.0000000111|0.0000010010|0.0000000011|0.0000000110|0.0000000101|0.0000000000|0.0000001110|0.0000000000|0.0000001001|0.0000000010|0.0000111011|0.0000000110|0.0001000000|0.0010000101|0.0000101110|0.0001000111|0.0000100001|0.0000101011|0.0000010110|0.0000101111|0.0000101101|0.0000101010|0.0000010111|0.0000001110|0.0000011000|0.0000000001|0.0000110100|0.0000110010|0.0000101010|0.0000101000|0.0000100010|0.0001000010|0.0000011000|0.0000010010|0.0000000000|0.0000010101|0.0000001100|0.0000000010|0.0000000100|0.0000010010|0.0000001100|0.0000011110|0.0000000111|0.0000001110|0.0000001000|0.0000000101|0.0000001100|0.0000000010|0.0000001000|0.0000000001|0.0000000111|0.0000010110|0.0000000011|0.0000000001|0.0000000011|0.0000001001|0.0000100100|0.0000000001|0.0000001100|0.0000000011|0.0000010001|0.0000010000|0.0000000010|0.0000001000|0.0000000101|0.0000001011|0.0000011000|0.0000001001|0.0000000011|0.0000000001|0.0000010111|0.0000011110|0.0000001111|0.0000000000|0.0000001101|0.0000011011|0.0000100100|0.0000001101|0.0000000100|0.0000001000|0.0000011001|0.0000000100|0.0000001001|0.0000010100|0.0000000011|0.0000001111|0.0000010110|0.0000001111|0.0000001100|0.0000001010|0.0000001011|0.0000011000|0.0000001111|0.0000011110|0.0000101011|0.0000100100|0.0000010001|\n",
            "['', '', '', '', '', '', '', '', '', '', '', '', '', '', '', '', '', '', '', '', '', '', '', '', '', '', '', '', '', '', '', '', '', '', '', '', '', '', '', '', '', '', '', '', '', '', '', '', '', '', '', '', '', '', '', '', '', '', '', '', '', '', '', '', '', '', '', '', '', '', '', '', '', '', '', '', '', '', '', '', '', '', '', '', '', '', '', '', '', '', '', '', '', '', '', '', '', '', '', '', '', '', '', '', '', '', '', '', '', '', '', '', '', '', '', '', '', '', '', '', '', '', '', '', '', '', '', '', '', '', '', '', '', '', '', '', '', '', '', '', '', '', '', '', '', '', '', '', '', '', '', '', '', '', '', '', '', '', '', '', '', '', '', '', '', '', '', '', '', '', '', '', '', '', '', '', '', '', '', '', '', '', '', '', '', '', '', '', '', '', '', '', '', '', '', '', '', '', '', '', '', '', '', '', '', '', '', '', '', '', '', '', '', '', '', '', '', '', '', '', '', '', '', '', '', '', '', '', '', '', '', '', '', '', '', '', '', '', '', '', '', '', '', '', '', '', '', '', '', '', '', '', '', '', '', '', '', '', '', '', '', '', '', '', '', '', '', '', '', '', '', '', '', '', '', '', '', '', '', '', '', '', '', '', '', '', '', '', '', '', '', '', '', '', '', '', '', '', '', '', '', '', '', '', '', '', '', '', '', '', '', '', '', '', '', '', '', '', '', '', '', '', '', '', '', '', '', '', '', '', '', '', '', '', '', '', '', '', '', '', '', '', '', '', '', '', '', '', '', '', '', '', '', '', '', '', '', '', '', '', '', '', '', '', '', '', '', '', '', '', '', '', '', '', '', '', '', '', '', '', '', '', '', '', '', '', '', '', '', '', '', '', '', '', '', '', '', '', '', '', '', '', '', '', '', '', '', '', '', '', '', '', '', '', '', '', '', '', '', '', '', '', '', '', '', '', '', '', '', '', '', '', '', '', '', '', '', '', '', '', '', '', '', '', '', '', '', '', '', '', '', '', '', '', '', '', '', '', '', '', '', '', '', '', '', '', '', '', '', '', '', '', '', '', '', '', '', '', '', '', '', '', '', '', '', '', '', '', '', '', '', '', '', '', '', '', '', '', '']\n",
            "['0000001111', '0000100100', '0000000011', '0000001111', '0000000000', '0000001111', '0000010110', '0000000000', '0000000011', '0000001000', '0000001111', '0000100000', '0000000011', '0000010011', '0000000100', '0000010111', '0000100100', '0000000111', '0000001001', '0000000000', '0000001111', '0000001000', '0000000111', '0000000000', '0000010100', '0000001011', '0000010000', '0000001011', '0000000100', '0000000100', '0000010001', '0000011000', '0000000111', '0000000000', '0000001100', '0000010111', '0000010000', '0000000011', '0000000100', '0000010100', '0000000111', '0000000000', '0000000011', '0000000010', '0000000100', '0000000111', '0000010000', '0000000000', '0000000011', '0000010000', '0000000111', '0000001100', '0000001111', '0000000011', '0000000000', '0000010101', '0000010100', '0000000011', '0000001100', '0000000100', '0000001111', '0000011100', '0000001111', '0000000000', '0000001000', '0000101101', '0000001000', '0000011111', '0000100011', '0000100111', '0000010111', '0000000100', '0000000111', '0000000000', '0000000000', '0000011001', '0000011010', '0000001101', '0000000100', '0000000000', '0000001111', '0000010000', '0000001111', '0000001100', '0000010000', '0000010011', '0000000010', '0000000011', '0000001100', '0000001000', '0000011011', '0000010100', '0000001011', '0000110000', '0000011000', '0000100010', '0000101100', '0000100100', '0000001011', '0000000000', '0000001111', '0000010000', '0000001011', '0000000101', '0000001000', '0000011011', '0000011100', '0000000011', '0000000000', '0000000000', '0000010011', '0000100110', '0000001011', '0000000100', '0000000011', '0000000111', '0000001100', '0000000111', '0000000100', '0000000110', '0000001111', '0000001100', '0000000011', '0000000000', '0000010000', '0000010111', '0000010110', '0000000111', '0000000000', '0000000011', '0000000111', '0000010000', '0000000011', '0000001101', '0000000100', '0000001011', '0000001000', '0000001111', '0000000010', '0000000011', '0000010011', '0000100000', '0000000011', '0000000000', '0000001011', '0000001101', '0000010000', '0000000000', '0000001100', '0000000011', '0000001011', '0000010010', '0000000011', '0000000100', '0000001100', '0000000000', '0000010000', '0000010001', '0000011000', '0000000000', '0000010111', '0000010100', '0000000101', '0000010000', '0000001000', '0000001111', '0000001100', '0000001001', '0000001000', '0000000000', '0000010111', '0000011100', '0000000101', '0000001100', '0000000100', '0000010011', '0000010000', '0000000001', '0000001000', '0000000011', '0000010011', '0000010000', '0000001010', '0000000111', '0000000011', '0000001011', '0000010100', '0000011001', '0000010000', '0000000011', '0000000011', '0000001010', '0000000000', '0000010000', '0000000011', '0000001011', '0000001110', '0000001011', '0000001100', '0000001000', '0000010001', '0000001000', '0000010011', '0000001100', '0000000001', '0000000111', '0000011100', '0000001111', '0000000001', '0000001100', '0000000111', '0000001100', '0000001101', '0000001000', '0000000011', '0000001011', '0000010110', '0000000111', '0000001000', '0000000101', '0000000111', '0000000100', '0000000011', '0000000110', '0000000011', '0000000011', '0000001010', '0000000011', '0000001000', '0000000011', '0000000101', '0000000100', '0000010011', '0000010100', '0000000001', '0000000111', '0000001000', '0000000101', '0000001100', '0000000111', '0000010001', '0000001100', '0000001011', '0000001010', '0000000011', '0000000111', '0000010010', '0000010011', '0000010000', '0000001001', '0000000000', '0000000000', '0000000001', '0000001000', '0000001100', '0000010101', '0000000100', '0000001011', '0000010010', '0000000011', '0000001111', '0000000010', '0000001011', '0000011010', '0000000100', '0000001111', '0000000110', '0000000000', '0000001100', '0000000101', '0000001011', '0000001110', '0000001011', '0000001000', '0000001001', '0000000011', '0000001000', '0000001101', '0000010000', '0000000110', '0000010011', '0000000110', '0000000011', '0000010000', '0000000101', '0000001011', '0000001110', '0000001011', '0000000110', '0000001011', '0000001111', '0000010110', '0000001011', '0000010110', '0000000011', '0000001101', '0000001000', '0000001101', '0000010000', '0000000001', '0000000111', '0000001000', '0000000101', '0000001100', '0000000101', '0000000011', '0000000010', '0000001111', '0000010110', '0000000111', '0000010001', '0000001000', '0000000001', '0000010000', '0000010001', '0000000000', '0000010010', '0000010011', '0000001110', '0000001011', '0000000101', '0000000000', '0000010101', '0000010000', '0000000110', '0000001111', '0000000101', '0000001011', '0000011010', '0000010001', '0000000111', '0000001110', '0000001011', '0000001110', '0000000111', '0000010001', '0000001100', '0000010101', '0000010110', '0000001011', '0000000001', '0000000100', '0000001101', '0000001000', '0000000001', '0000000000', '0000001110', '0000001001', '0000001100', '0000000101', '0000000000', '0000001010', '0000011101', '0000010000', '0000000110', '0000000011', '0000000101', '0000010001', '0000010000', '0000000101', '0000000111', '0000001010', '0000011001', '0000010000', '0000000110', '0000000100', '0000001001', '0000100001', '0000100100', '0000000101', '0000000000', '0000000010', '0000001101', '0000001100', '0000000101', '0000001000', '0000000010', '0000001001', '0000010000', '0000000101', '0000000101', '0000000011', '0000001101', '0000011000', '0000010101', '0000000001', '0000001100', '0000010101', '0000010110', '0000000111', '0000000001', '0000001000', '0000001001', '0000000001', '0000000100', '0000000001', '0000001000', '0000011101', '0000011010', '0000000111', '0000000110', '0000000010', '0000000111', '0000010010', '0000000011', '0000000110', '0000000101', '0000000000', '0000001110', '0000000000', '0000001001', '0000000010', '0000111011', '0000000110', '0001000000', '0010000101', '0000101110', '0001000111', '0000100001', '0000101011', '0000010110', '0000101111', '0000101101', '0000101010', '0000010111', '0000001110', '0000011000', '0000000001', '0000110100', '0000110010', '0000101010', '0000101000', '0000100010', '0001000010', '0000011000', '0000010010', '0000000000', '0000010101', '0000001100', '0000000010', '0000000100', '0000010010', '0000001100', '0000011110', '0000000111', '0000001110', '0000001000', '0000000101', '0000001100', '0000000010', '0000001000', '0000000001', '0000000111', '0000010110', '0000000011', '0000000001', '0000000011', '0000001001', '0000100100', '0000000001', '0000001100', '0000000011', '0000010001', '0000010000', '0000000010', '0000001000', '0000000101', '0000001011', '0000011000', '0000001001', '0000000011', '0000000001', '0000010111', '0000011110', '0000001111', '0000000000', '0000001101', '0000011011', '0000100100', '0000001101', '0000000100', '0000001000', '0000011001', '0000000100', '0000001001', '0000010100', '0000000011', '0000001111', '0000010110', '0000001111', '0000001100', '0000001010', '0000001011', '0000011000', '0000001111', '0000011110', '0000101011', '0000100100', '0000010001']\n"
          ]
        }
      ]
    },
    {
      "cell_type": "markdown",
      "source": [
        "**Recognising NULL values as 0s**"
      ],
      "metadata": {
        "id": "0ojj4nrplfI7"
      }
    },
    {
      "cell_type": "code",
      "source": [
        "for i in range(len(q_val)):\n",
        "  if (q_val[i] == ''):\n",
        "    q_val[i] = '0'\n",
        "\n",
        "print(q_val)"
      ],
      "metadata": {
        "colab": {
          "base_uri": "https://localhost:8080/"
        },
        "id": "LPWUcbIhlfwH",
        "outputId": "b86c5f2b-85c7-4999-f6ab-60e9a4095632"
      },
      "execution_count": null,
      "outputs": [
        {
          "output_type": "stream",
          "name": "stdout",
          "text": [
            "['0', '0', '0', '0', '0', '0', '0', '0', '0', '0', '0', '0', '0', '0', '0', '0', '0', '0', '0', '0', '0', '0', '0', '0', '0', '0', '0', '0', '0', '0', '0', '0', '0', '0', '0', '0', '0', '0', '0', '0', '0', '0', '0', '0', '0', '0', '0', '0', '0', '0', '0', '0', '0', '0', '0', '0', '0', '0', '0', '0', '0', '0', '0', '0', '0', '0', '0', '0', '0', '0', '0', '0', '0', '0', '0', '0', '0', '0', '0', '0', '0', '0', '0', '0', '0', '0', '0', '0', '0', '0', '0', '0', '0', '0', '0', '0', '0', '0', '0', '0', '0', '0', '0', '0', '0', '0', '0', '0', '0', '0', '0', '0', '0', '0', '0', '0', '0', '0', '0', '0', '0', '0', '0', '0', '0', '0', '0', '0', '0', '0', '0', '0', '0', '0', '0', '0', '0', '0', '0', '0', '0', '0', '0', '0', '0', '0', '0', '0', '0', '0', '0', '0', '0', '0', '0', '0', '0', '0', '0', '0', '0', '0', '0', '0', '0', '0', '0', '0', '0', '0', '0', '0', '0', '0', '0', '0', '0', '0', '0', '0', '0', '0', '0', '0', '0', '0', '0', '0', '0', '0', '0', '0', '0', '0', '0', '0', '0', '0', '0', '0', '0', '0', '0', '0', '0', '0', '0', '0', '0', '0', '0', '0', '0', '0', '0', '0', '0', '0', '0', '0', '0', '0', '0', '0', '0', '0', '0', '0', '0', '0', '0', '0', '0', '0', '0', '0', '0', '0', '0', '0', '0', '0', '0', '0', '0', '0', '0', '0', '0', '0', '0', '0', '0', '0', '0', '0', '0', '0', '0', '0', '0', '0', '0', '0', '0', '0', '0', '0', '0', '0', '0', '0', '0', '0', '0', '0', '0', '0', '0', '0', '0', '0', '0', '0', '0', '0', '0', '0', '0', '0', '0', '0', '0', '0', '0', '0', '0', '0', '0', '0', '0', '0', '0', '0', '0', '0', '0', '0', '0', '0', '0', '0', '0', '0', '0', '0', '0', '0', '0', '0', '0', '0', '0', '0', '0', '0', '0', '0', '0', '0', '0', '0', '0', '0', '0', '0', '0', '0', '0', '0', '0', '0', '0', '0', '0', '0', '0', '0', '0', '0', '0', '0', '0', '0', '0', '0', '0', '0', '0', '0', '0', '0', '0', '0', '0', '0', '0', '0', '0', '0', '0', '0', '0', '0', '0', '0', '0', '0', '0', '0', '0', '0', '0', '0', '0', '0', '0', '0', '0', '0', '0', '0', '0', '0', '0', '0', '0', '0', '0', '0', '0', '0', '0', '0', '0', '0', '0', '0', '0', '0', '0', '0', '0', '0', '0', '0', '0', '0', '0', '0', '0', '0', '0', '0', '0', '0', '0', '0', '0', '0', '0', '0', '0', '0', '0', '0', '0', '0', '0', '0', '0', '0', '0', '0', '0', '0', '0', '0', '0', '0', '0', '0', '0', '0', '0', '0', '0', '0', '0', '0', '0', '0', '0', '0', '0', '0', '0', '0', '0', '0', '0', '0', '0', '0', '0', '0', '0', '0', '0', '0', '0', '0', '0', '0', '0', '0', '0', '0', '0', '0', '0', '0', '0', '0', '0', '0', '0', '0', '0']\n"
          ]
        }
      ]
    },
    {
      "cell_type": "markdown",
      "source": [
        "**Q values in Decimals**"
      ],
      "metadata": {
        "id": "9ketwFYXliVD"
      }
    },
    {
      "cell_type": "code",
      "source": [
        "from re import template\n",
        "Q_vals_Decimals = []\n",
        "for i in q_val:\n",
        "  if (i == '0'):\n",
        "    Q_vals_Decimals.append(0)\n",
        "  else:\n",
        "    Q_vals_Decimals.append(len(i))\n",
        "\n",
        "print(Q_vals_Decimals)"
      ],
      "metadata": {
        "colab": {
          "base_uri": "https://localhost:8080/"
        },
        "id": "TCUi0yIIliFd",
        "outputId": "d6ea041b-70b1-40e8-ec55-d8a6aaa0a039"
      },
      "execution_count": null,
      "outputs": [
        {
          "output_type": "stream",
          "name": "stdout",
          "text": [
            "[0, 0, 0, 0, 0, 0, 0, 0, 0, 0, 0, 0, 0, 0, 0, 0, 0, 0, 0, 0, 0, 0, 0, 0, 0, 0, 0, 0, 0, 0, 0, 0, 0, 0, 0, 0, 0, 0, 0, 0, 0, 0, 0, 0, 0, 0, 0, 0, 0, 0, 0, 0, 0, 0, 0, 0, 0, 0, 0, 0, 0, 0, 0, 0, 0, 0, 0, 0, 0, 0, 0, 0, 0, 0, 0, 0, 0, 0, 0, 0, 0, 0, 0, 0, 0, 0, 0, 0, 0, 0, 0, 0, 0, 0, 0, 0, 0, 0, 0, 0, 0, 0, 0, 0, 0, 0, 0, 0, 0, 0, 0, 0, 0, 0, 0, 0, 0, 0, 0, 0, 0, 0, 0, 0, 0, 0, 0, 0, 0, 0, 0, 0, 0, 0, 0, 0, 0, 0, 0, 0, 0, 0, 0, 0, 0, 0, 0, 0, 0, 0, 0, 0, 0, 0, 0, 0, 0, 0, 0, 0, 0, 0, 0, 0, 0, 0, 0, 0, 0, 0, 0, 0, 0, 0, 0, 0, 0, 0, 0, 0, 0, 0, 0, 0, 0, 0, 0, 0, 0, 0, 0, 0, 0, 0, 0, 0, 0, 0, 0, 0, 0, 0, 0, 0, 0, 0, 0, 0, 0, 0, 0, 0, 0, 0, 0, 0, 0, 0, 0, 0, 0, 0, 0, 0, 0, 0, 0, 0, 0, 0, 0, 0, 0, 0, 0, 0, 0, 0, 0, 0, 0, 0, 0, 0, 0, 0, 0, 0, 0, 0, 0, 0, 0, 0, 0, 0, 0, 0, 0, 0, 0, 0, 0, 0, 0, 0, 0, 0, 0, 0, 0, 0, 0, 0, 0, 0, 0, 0, 0, 0, 0, 0, 0, 0, 0, 0, 0, 0, 0, 0, 0, 0, 0, 0, 0, 0, 0, 0, 0, 0, 0, 0, 0, 0, 0, 0, 0, 0, 0, 0, 0, 0, 0, 0, 0, 0, 0, 0, 0, 0, 0, 0, 0, 0, 0, 0, 0, 0, 0, 0, 0, 0, 0, 0, 0, 0, 0, 0, 0, 0, 0, 0, 0, 0, 0, 0, 0, 0, 0, 0, 0, 0, 0, 0, 0, 0, 0, 0, 0, 0, 0, 0, 0, 0, 0, 0, 0, 0, 0, 0, 0, 0, 0, 0, 0, 0, 0, 0, 0, 0, 0, 0, 0, 0, 0, 0, 0, 0, 0, 0, 0, 0, 0, 0, 0, 0, 0, 0, 0, 0, 0, 0, 0, 0, 0, 0, 0, 0, 0, 0, 0, 0, 0, 0, 0, 0, 0, 0, 0, 0, 0, 0, 0, 0, 0, 0, 0, 0, 0, 0, 0, 0, 0, 0, 0, 0, 0, 0, 0, 0, 0, 0, 0, 0, 0, 0, 0, 0, 0, 0, 0, 0, 0, 0, 0, 0, 0, 0, 0, 0, 0, 0, 0, 0, 0, 0, 0, 0, 0, 0, 0, 0, 0, 0, 0, 0, 0, 0, 0, 0, 0, 0, 0, 0, 0, 0, 0, 0, 0, 0, 0, 0, 0, 0, 0, 0, 0, 0, 0]\n"
          ]
        }
      ]
    },
    {
      "cell_type": "markdown",
      "source": [
        "**Conversion of r[k] from bits to decimals**"
      ],
      "metadata": {
        "id": "LWwhb7nsloa2"
      }
    },
    {
      "cell_type": "code",
      "source": [
        "r_val_Decimal = []\n",
        "for i in r_val:\n",
        "  r_val_Decimal.append(int(i,2))\n",
        "\n",
        "print(r_val_Decimal)"
      ],
      "metadata": {
        "colab": {
          "base_uri": "https://localhost:8080/"
        },
        "id": "K8IbzU6blq3N",
        "outputId": "386ac3c3-9bcd-42bd-c921-abeb7829fe5d"
      },
      "execution_count": null,
      "outputs": [
        {
          "output_type": "stream",
          "name": "stdout",
          "text": [
            "[15, 36, 3, 15, 0, 15, 22, 0, 3, 8, 15, 32, 3, 19, 4, 23, 36, 7, 9, 0, 15, 8, 7, 0, 20, 11, 16, 11, 4, 4, 17, 24, 7, 0, 12, 23, 16, 3, 4, 20, 7, 0, 3, 2, 4, 7, 16, 0, 3, 16, 7, 12, 15, 3, 0, 21, 20, 3, 12, 4, 15, 28, 15, 0, 8, 45, 8, 31, 35, 39, 23, 4, 7, 0, 0, 25, 26, 13, 4, 0, 15, 16, 15, 12, 16, 19, 2, 3, 12, 8, 27, 20, 11, 48, 24, 34, 44, 36, 11, 0, 15, 16, 11, 5, 8, 27, 28, 3, 0, 0, 19, 38, 11, 4, 3, 7, 12, 7, 4, 6, 15, 12, 3, 0, 16, 23, 22, 7, 0, 3, 7, 16, 3, 13, 4, 11, 8, 15, 2, 3, 19, 32, 3, 0, 11, 13, 16, 0, 12, 3, 11, 18, 3, 4, 12, 0, 16, 17, 24, 0, 23, 20, 5, 16, 8, 15, 12, 9, 8, 0, 23, 28, 5, 12, 4, 19, 16, 1, 8, 3, 19, 16, 10, 7, 3, 11, 20, 25, 16, 3, 3, 10, 0, 16, 3, 11, 14, 11, 12, 8, 17, 8, 19, 12, 1, 7, 28, 15, 1, 12, 7, 12, 13, 8, 3, 11, 22, 7, 8, 5, 7, 4, 3, 6, 3, 3, 10, 3, 8, 3, 5, 4, 19, 20, 1, 7, 8, 5, 12, 7, 17, 12, 11, 10, 3, 7, 18, 19, 16, 9, 0, 0, 1, 8, 12, 21, 4, 11, 18, 3, 15, 2, 11, 26, 4, 15, 6, 0, 12, 5, 11, 14, 11, 8, 9, 3, 8, 13, 16, 6, 19, 6, 3, 16, 5, 11, 14, 11, 6, 11, 15, 22, 11, 22, 3, 13, 8, 13, 16, 1, 7, 8, 5, 12, 5, 3, 2, 15, 22, 7, 17, 8, 1, 16, 17, 0, 18, 19, 14, 11, 5, 0, 21, 16, 6, 15, 5, 11, 26, 17, 7, 14, 11, 14, 7, 17, 12, 21, 22, 11, 1, 4, 13, 8, 1, 0, 14, 9, 12, 5, 0, 10, 29, 16, 6, 3, 5, 17, 16, 5, 7, 10, 25, 16, 6, 4, 9, 33, 36, 5, 0, 2, 13, 12, 5, 8, 2, 9, 16, 5, 5, 3, 13, 24, 21, 1, 12, 21, 22, 7, 1, 8, 9, 1, 4, 1, 8, 29, 26, 7, 6, 2, 7, 18, 3, 6, 5, 0, 14, 0, 9, 2, 59, 6, 64, 133, 46, 71, 33, 43, 22, 47, 45, 42, 23, 14, 24, 1, 52, 50, 42, 40, 34, 66, 24, 18, 0, 21, 12, 2, 4, 18, 12, 30, 7, 14, 8, 5, 12, 2, 8, 1, 7, 22, 3, 1, 3, 9, 36, 1, 12, 3, 17, 16, 2, 8, 5, 11, 24, 9, 3, 1, 23, 30, 15, 0, 13, 27, 36, 13, 4, 8, 25, 4, 9, 20, 3, 15, 22, 15, 12, 10, 11, 24, 15, 30, 43, 36, 17]\n"
          ]
        }
      ]
    },
    {
      "cell_type": "code",
      "source": [
        "decompressed_data = []\n",
        "for i in range(499):\n",
        "  decompressed_data.append(M * Q_vals_Decimals[i] + r_val_Decimal[i])\n",
        "\n",
        "print(z)\n",
        "print(decompressed_data)"
      ],
      "metadata": {
        "colab": {
          "base_uri": "https://localhost:8080/"
        },
        "id": "8oTXl53zlxuz",
        "outputId": "9ae935db-00f7-4caf-94be-4f8e67adfb36"
      },
      "execution_count": null,
      "outputs": [
        {
          "output_type": "stream",
          "name": "stdout",
          "text": [
            "[15.0, 36.0, 3.0, 15.0, 0.0, 15.0, 22.0, 0.0, 3.0, 8.0, 15.0, 32.0, 3.0, 19.0, 4.0, 23.0, 36.0, 7.0, 9.0, 0.0, 15.0, 8.0, 7.0, 0.0, 20.0, 11.0, 16.0, 11.0, 4.0, 4.0, 17.0, 24.0, 7.0, 0.0, 12.0, 23.0, 16.0, 3.0, 4.0, 20.0, 7.0, 0.0, 3.0, 2.0, 4.0, 7.0, 16.0, 0.0, 3.0, 16.0, 7.0, 12.0, 15.0, 3.0, 0.0, 21.0, 20.0, 3.0, 12.0, 4.0, 15.0, 28.0, 15.0, 0.0, 8.0, 45.0, 8.0, 31.0, 35.0, 39.0, 23.0, 4.0, 7.0, 0.0, 0.0, 25.0, 26.0, 13.0, 4.0, 0.0, 15.0, 16.0, 15.0, 12.0, 16.0, 19.0, 2.0, 3.0, 12.0, 8.0, 27.0, 20.0, 11.0, 48.0, 24.0, 34.0, 44.0, 36.0, 11.0, 0.0, 15.0, 16.0, 11.0, 5.0, 8.0, 27.0, 28.0, 3.0, 0.0, 0.0, 19.0, 38.0, 11.0, 4.0, 3.0, 7.0, 12.0, 7.0, 4.0, 6.0, 15.0, 12.0, 3.0, 0.0, 16.0, 23.0, 22.0, 7.0, 0.0, 3.0, 7.0, 16.0, 3.0, 13.0, 4.0, 11.0, 8.0, 15.0, 2.0, 3.0, 19.0, 32.0, 3.0, 0.0, 11.0, 13.0, 16.0, 0.0, 12.0, 3.0, 11.0, 18.0, 3.0, 4.0, 12.0, 0.0, 16.0, 17.0, 24.0, 0.0, 23.0, 20.0, 5.0, 16.0, 8.0, 15.0, 12.0, 9.0, 8.0, 0.0, 23.0, 28.0, 5.0, 12.0, 4.0, 19.0, 16.0, 1.0, 8.0, 3.0, 19.0, 16.0, 10.0, 7.0, 3.0, 11.0, 20.0, 25.0, 16.0, 3.0, 3.0, 10.0, 0.0, 16.0, 3.0, 11.0, 14.0, 11.0, 12.0, 8.0, 17.0, 8.0, 19.0, 12.0, 1.0, 7.0, 28.0, 15.0, 1.0, 12.0, 7.0, 12.0, 13.0, 8.0, 3.0, 11.0, 22.0, 7.0, 8.0, 5.0, 7.0, 4.0, 3.0, 6.0, 3.0, 3.0, 10.0, 3.0, 8.0, 3.0, 5.0, 4.0, 19.0, 20.0, 1.0, 7.0, 8.0, 5.0, 12.0, 7.0, 17.0, 12.0, 11.0, 10.0, 3.0, 7.0, 18.0, 19.0, 16.0, 9.0, 0.0, 0.0, 1.0, 8.0, 12.0, 21.0, 4.0, 11.0, 18.0, 3.0, 15.0, 2.0, 11.0, 26.0, 4.0, 15.0, 6.0, 0.0, 12.0, 5.0, 11.0, 14.0, 11.0, 8.0, 9.0, 3.0, 8.0, 13.0, 16.0, 6.0, 19.0, 6.0, 3.0, 16.0, 5.0, 11.0, 14.0, 11.0, 6.0, 11.0, 15.0, 22.0, 11.0, 22.0, 3.0, 13.0, 8.0, 13.0, 16.0, 1.0, 7.0, 8.0, 5.0, 12.0, 5.0, 3.0, 2.0, 15.0, 22.0, 7.0, 17.0, 8.0, 1.0, 16.0, 17.0, 0.0, 18.0, 19.0, 14.0, 11.0, 5.0, 0.0, 21.0, 16.0, 6.0, 15.0, 5.0, 11.0, 26.0, 17.0, 7.0, 14.0, 11.0, 14.0, 7.0, 17.0, 12.0, 21.0, 22.0, 11.0, 1.0, 4.0, 13.0, 8.0, 1.0, 0.0, 14.0, 9.0, 12.0, 5.0, 0.0, 10.0, 29.0, 16.0, 6.0, 3.0, 5.0, 17.0, 16.0, 5.0, 7.0, 10.0, 25.0, 16.0, 6.0, 4.0, 9.0, 33.0, 36.0, 5.0, 0.0, 2.0, 13.0, 12.0, 5.0, 8.0, 2.0, 9.0, 16.0, 5.0, 5.0, 3.0, 13.0, 24.0, 21.0, 1.0, 12.0, 21.0, 22.0, 7.0, 1.0, 8.0, 9.0, 1.0, 4.0, 1.0, 8.0, 29.0, 26.0, 7.0, 6.0, 2.0, 7.0, 18.0, 3.0, 6.0, 5.0, 0.0, 14.0, 0.0, 9.0, 2.0, 59.0, 6.0, 64.0, 133.0, 46.0, 71.0, 33.0, 43.0, 22.0, 47.0, 45.0, 42.0, 23.0, 14.0, 24.0, 1.0, 52.0, 50.0, 42.0, 40.0, 34.0, 66.0, 24.0, 18.0, -0.0, 21.0, 12.0, 2.0, 4.0, 18.0, 12.0, 30.0, 7.0, 14.0, 8.0, 5.0, 12.0, 2.0, 8.0, 1.0, 7.0, 22.0, 3.0, 1.0, 3.0, 9.0, 36.0, 1.0, 12.0, 3.0, 17.0, 16.0, 2.0, 8.0, 5.0, 11.0, 24.0, 9.0, 3.0, 1.0, 23.0, 30.0, 15.0, 0.0, 13.0, 27.0, 36.0, 13.0, 4.0, 8.0, 25.0, 4.0, 9.0, 20.0, 3.0, 15.0, 22.0, 15.0, 12.0, 10.0, 11.0, 24.0, 15.0, 30.0, 43.0, 36.0, 17.0, 0]\n",
            "[15.0, 36.0, 3.0, 15.0, 0.0, 15.0, 22.0, 0.0, 3.0, 8.0, 15.0, 32.0, 3.0, 19.0, 4.0, 23.0, 36.0, 7.0, 9.0, 0.0, 15.0, 8.0, 7.0, 0.0, 20.0, 11.0, 16.0, 11.0, 4.0, 4.0, 17.0, 24.0, 7.0, 0.0, 12.0, 23.0, 16.0, 3.0, 4.0, 20.0, 7.0, 0.0, 3.0, 2.0, 4.0, 7.0, 16.0, 0.0, 3.0, 16.0, 7.0, 12.0, 15.0, 3.0, 0.0, 21.0, 20.0, 3.0, 12.0, 4.0, 15.0, 28.0, 15.0, 0.0, 8.0, 45.0, 8.0, 31.0, 35.0, 39.0, 23.0, 4.0, 7.0, 0.0, 0.0, 25.0, 26.0, 13.0, 4.0, 0.0, 15.0, 16.0, 15.0, 12.0, 16.0, 19.0, 2.0, 3.0, 12.0, 8.0, 27.0, 20.0, 11.0, 48.0, 24.0, 34.0, 44.0, 36.0, 11.0, 0.0, 15.0, 16.0, 11.0, 5.0, 8.0, 27.0, 28.0, 3.0, 0.0, 0.0, 19.0, 38.0, 11.0, 4.0, 3.0, 7.0, 12.0, 7.0, 4.0, 6.0, 15.0, 12.0, 3.0, 0.0, 16.0, 23.0, 22.0, 7.0, 0.0, 3.0, 7.0, 16.0, 3.0, 13.0, 4.0, 11.0, 8.0, 15.0, 2.0, 3.0, 19.0, 32.0, 3.0, 0.0, 11.0, 13.0, 16.0, 0.0, 12.0, 3.0, 11.0, 18.0, 3.0, 4.0, 12.0, 0.0, 16.0, 17.0, 24.0, 0.0, 23.0, 20.0, 5.0, 16.0, 8.0, 15.0, 12.0, 9.0, 8.0, 0.0, 23.0, 28.0, 5.0, 12.0, 4.0, 19.0, 16.0, 1.0, 8.0, 3.0, 19.0, 16.0, 10.0, 7.0, 3.0, 11.0, 20.0, 25.0, 16.0, 3.0, 3.0, 10.0, 0.0, 16.0, 3.0, 11.0, 14.0, 11.0, 12.0, 8.0, 17.0, 8.0, 19.0, 12.0, 1.0, 7.0, 28.0, 15.0, 1.0, 12.0, 7.0, 12.0, 13.0, 8.0, 3.0, 11.0, 22.0, 7.0, 8.0, 5.0, 7.0, 4.0, 3.0, 6.0, 3.0, 3.0, 10.0, 3.0, 8.0, 3.0, 5.0, 4.0, 19.0, 20.0, 1.0, 7.0, 8.0, 5.0, 12.0, 7.0, 17.0, 12.0, 11.0, 10.0, 3.0, 7.0, 18.0, 19.0, 16.0, 9.0, 0.0, 0.0, 1.0, 8.0, 12.0, 21.0, 4.0, 11.0, 18.0, 3.0, 15.0, 2.0, 11.0, 26.0, 4.0, 15.0, 6.0, 0.0, 12.0, 5.0, 11.0, 14.0, 11.0, 8.0, 9.0, 3.0, 8.0, 13.0, 16.0, 6.0, 19.0, 6.0, 3.0, 16.0, 5.0, 11.0, 14.0, 11.0, 6.0, 11.0, 15.0, 22.0, 11.0, 22.0, 3.0, 13.0, 8.0, 13.0, 16.0, 1.0, 7.0, 8.0, 5.0, 12.0, 5.0, 3.0, 2.0, 15.0, 22.0, 7.0, 17.0, 8.0, 1.0, 16.0, 17.0, 0.0, 18.0, 19.0, 14.0, 11.0, 5.0, 0.0, 21.0, 16.0, 6.0, 15.0, 5.0, 11.0, 26.0, 17.0, 7.0, 14.0, 11.0, 14.0, 7.0, 17.0, 12.0, 21.0, 22.0, 11.0, 1.0, 4.0, 13.0, 8.0, 1.0, 0.0, 14.0, 9.0, 12.0, 5.0, 0.0, 10.0, 29.0, 16.0, 6.0, 3.0, 5.0, 17.0, 16.0, 5.0, 7.0, 10.0, 25.0, 16.0, 6.0, 4.0, 9.0, 33.0, 36.0, 5.0, 0.0, 2.0, 13.0, 12.0, 5.0, 8.0, 2.0, 9.0, 16.0, 5.0, 5.0, 3.0, 13.0, 24.0, 21.0, 1.0, 12.0, 21.0, 22.0, 7.0, 1.0, 8.0, 9.0, 1.0, 4.0, 1.0, 8.0, 29.0, 26.0, 7.0, 6.0, 2.0, 7.0, 18.0, 3.0, 6.0, 5.0, 0.0, 14.0, 0.0, 9.0, 2.0, 59.0, 6.0, 64.0, 133.0, 46.0, 71.0, 33.0, 43.0, 22.0, 47.0, 45.0, 42.0, 23.0, 14.0, 24.0, 1.0, 52.0, 50.0, 42.0, 40.0, 34.0, 66.0, 24.0, 18.0, 0.0, 21.0, 12.0, 2.0, 4.0, 18.0, 12.0, 30.0, 7.0, 14.0, 8.0, 5.0, 12.0, 2.0, 8.0, 1.0, 7.0, 22.0, 3.0, 1.0, 3.0, 9.0, 36.0, 1.0, 12.0, 3.0, 17.0, 16.0, 2.0, 8.0, 5.0, 11.0, 24.0, 9.0, 3.0, 1.0, 23.0, 30.0, 15.0, 0.0, 13.0, 27.0, 36.0, 13.0, 4.0, 8.0, 25.0, 4.0, 9.0, 20.0, 3.0, 15.0, 22.0, 15.0, 12.0, 10.0, 11.0, 24.0, 15.0, 30.0, 43.0, 36.0, 17.0]\n"
          ]
        }
      ]
    },
    {
      "cell_type": "code",
      "source": [
        "for i in range(len(decompressed_data)):\n",
        "  if (z[i] != decompressed_data[i]):\n",
        "    print(\"error\")\n"
      ],
      "metadata": {
        "id": "TdgGfzn6l3IQ"
      },
      "execution_count": null,
      "outputs": []
    },
    {
      "cell_type": "markdown",
      "source": [
        "**Automation Part**"
      ],
      "metadata": {
        "id": "bgFFp8OEGUgG"
      }
    },
    {
      "cell_type": "markdown",
      "source": [
        "\n",
        "Given µ, the optimum GPO2 code parameter must be in the range [k∗\n",
        "min(µ), k∗\n",
        "max(µ)], where\n",
        "\n",
        "$k_{min}\\left ( \\mu  \\right ) = max\\left\\{ 0,\\left \\lfloor log_2\\left ( \\frac{2}{3} \\left ( \\mu +1 \\right )\\right )\\right \\rfloor\\right\\}$\n",
        "\n",
        "and\n",
        "\n",
        "$k_{max}\\left ( \\mu  \\right ) = max\\left\\{ 0,\\left \\lceil log_2\\mu \\right \\rceil\\right\\}$\n",
        "\n",
        "above is the paper one's ideal approximation of the golomb parameter k\n",
        "where mu is the arthmetic average of the data\n",
        "we will take 2 time stamps to calculate the above function and compress it using the above function and compare\n",
        "\n",
        "\\\\\\\\\\\n",
        "\\\\\n",
        "\\\\\n",
        "\\\\\n",
        "\n",
        "Below shown is the calculation of the K_min and the K_max data"
      ],
      "metadata": {
        "id": "aMAlg5hEGgQY"
      }
    },
    {
      "cell_type": "code",
      "source": [
        "mean = np.mean(z)\n",
        "K_min_log_val = math.log2((2/3)*(mean + 1))\n",
        "K_min = math.floor(K_min_log_val)\n",
        "\n",
        "K_max_log_val = math.log2(mean)\n",
        "K_max = math.ceil(mean)\n",
        "\n",
        "print(f\"K_min -{K_min}\")\n",
        "print(f\"K_max -{K_max}\")"
      ],
      "metadata": {
        "colab": {
          "base_uri": "https://localhost:8080/"
        },
        "id": "tl3g8rxQGaEE",
        "outputId": "646e2229-5082-4bfe-ea09-e59f95777424"
      },
      "execution_count": null,
      "outputs": [
        {
          "output_type": "stream",
          "name": "stdout",
          "text": [
            "K_min -3\n",
            "K_max -13\n"
          ]
        }
      ]
    },
    {
      "cell_type": "markdown",
      "source": [
        "**Compressing through K_min to K_max data**"
      ],
      "metadata": {
        "id": "esgN8Ewj3yoZ"
      }
    },
    {
      "cell_type": "code",
      "source": [
        "code_rates = []\n",
        "for x in range(K_max):\n",
        "  b=x\n",
        "  M=math.pow(2,b)         # Golomb parameter\n",
        "  codeStream=\"\"\n",
        "  codeStream_debug=\"\"\n",
        "  for k in range (N-1):\n",
        "    # Step 3: Golomb code\n",
        "\n",
        "    #def golomb(codeword,m):\n",
        "    c = int(math.ceil(math.log(M,2)))  # for the formulas refer wikipedia page link in the readme file\n",
        "    #calculate quotient, remainder\n",
        "    r[k] = int(z[k]%M)\n",
        "    q[k] = int(math.floor(z[k]/M))\n",
        "\n",
        "    div = int(math.pow(2,c)-M)\n",
        "\n",
        "    #Step 4.1: quotient is put in unary code\n",
        "    quotientBit = \"\"\n",
        "    remainderBit=\"\"\n",
        "    a=\"\"\n",
        "    for i in range(q[k]):\n",
        "        quotientBit = quotientBit + \"1\"\n",
        "    quotientBit = quotientBit + \"0\"\n",
        "    #     print(\"First:\",first)\n",
        "    #Step 4.2: remainder is in binary mode\n",
        "    if r[k] < div:\n",
        "        b = c-1\n",
        "        a = \"{0:0\" + str(b) + \"b}\"\n",
        "        #print(\"1\",a.format(r[k]))\n",
        "        remainderBit = a.format(r[k])\n",
        "    else:\n",
        "        b = c\n",
        "        a = \"{0:0\" + str(b) + \"b}\"\n",
        "        #print(\"2\",a.format(r[k] + div))\n",
        "        remainderBit = a.format(r[k] + div)\n",
        "\n",
        "    codeStream_debug = codeStream_debug + quotientBit + \".\"+ remainderBit +\"|\"\n",
        "    codeStream = codeStream + quotientBit + remainderBit\n",
        "  code_rates.append((len(codeStream)+24)/(N*24))"
      ],
      "metadata": {
        "id": "8YeUHg4yHHsM"
      },
      "execution_count": null,
      "outputs": []
    },
    {
      "cell_type": "code",
      "source": [
        "print(len(code_rates))"
      ],
      "metadata": {
        "id": "TTuH6DF-HBUC",
        "colab": {
          "base_uri": "https://localhost:8080/"
        },
        "outputId": "5274bcab-0294-43a8-946d-e65cf18a9433"
      },
      "execution_count": null,
      "outputs": [
        {
          "output_type": "stream",
          "name": "stdout",
          "text": [
            "13\n"
          ]
        }
      ]
    },
    {
      "cell_type": "code",
      "source": [
        "#@title Plotting\n",
        "parameters = []\n",
        "for x in range(K_max):\n",
        "  parameters.append(x)\n",
        "\n",
        "f, ax = plt.subplots()\n",
        "ax.plot(parameters, code_rates)\n",
        "ax.set_title('Compression Ratio against Golomb parameters')\n",
        "ax.set_ylabel(\"Code Rate\")\n",
        "ax.set_xlabel(\"Golomb Parameter\")\n",
        "plt.show()"
      ],
      "metadata": {
        "colab": {
          "base_uri": "https://localhost:8080/",
          "height": 295
        },
        "cellView": "form",
        "id": "vKwPpEWS9n4p",
        "outputId": "9f0944a4-1f5f-4b39-e2cd-ffd5a9c49390"
      },
      "execution_count": null,
      "outputs": [
        {
          "output_type": "display_data",
          "data": {
            "text/plain": [
              "<Figure size 432x288 with 1 Axes>"
            ],
            "image/png": "[encoded data removed]"
          },
          "metadata": {
            "needs_background": "light"
          }
        }
      ]
    },
    {
      "cell_type": "code",
      "source": [
        "#@title Interactive Plot\n",
        "import plotly.graph_objects as go\n",
        "fig = go.Figure( go.Scatter(x= parameters, y=code_rates) )\n",
        "fig.update_layout(\n",
        "    title=\"Compression Ratio against Golomb Parameter\",\n",
        "    xaxis_title=\"Golomb Parameter\",\n",
        "    yaxis_title=\"Compression ratio\",\n",
        "    font=dict(\n",
        "        family=\"Courier New, monospace\",\n",
        "        size=18,\n",
        "        color=\"RebeccaPurple\"\n",
        "    )\n",
        ")\n",
        "fig.show()"
      ],
      "metadata": {
        "colab": {
          "base_uri": "https://localhost:8080/",
          "height": 542
        },
        "cellView": "form",
        "id": "lM3ljZGQ-pkJ",
        "outputId": "37671c27-16fc-48b2-fe94-a6319ab19e49"
      },
      "execution_count": null,
      "outputs": [
        {
          "output_type": "display_data",
          "data": {
            "text/html": [
              "<html>\n",
              "<head><meta charset=\"utf-8\" /></head>\n",
              "<body>\n",
              "    <div>            <script src=\"https://cdnjs.cloudflare.com/ajax/libs/mathjax/2.7.5/MathJax.js?config=TeX-AMS-MML_SVG\"></script><script type=\"text/javascript\">if (window.MathJax && window.MathJax.Hub && window.MathJax.Hub.Config) {window.MathJax.Hub.Config({SVG: {font: \"STIX-Web\"}});}</script>                <script type=\"text/javascript\">window.PlotlyConfig = {MathJaxConfig: 'local'};</script>\n",
              "        <script src=\"https://cdn.plot.ly/plotly-2.18.2.min.js\"></script>                <div id=\"92423a99-6fcb-4ee4-bbc5-73856ef69bc4\" class=\"plotly-graph-div\" style=\"height:525px; width:100%;\"></div>            <script type=\"text/javascript\">                                    window.PLOTLYENV=window.PLOTLYENV || {};                                    if (document.getElementById(\"92423a99-6fcb-4ee4-bbc5-73856ef69bc4\")) {                    Plotly.newPlot(                        \"92423a99-6fcb-4ee4-bbc5-73856ef69bc4\",                        [{\"x\":[0,1,2,3,4,5,6,7,8,9,10,11,12],\"y\":[0.6164166666666666,0.3405,0.24491666666666667,0.21816666666666668,0.22683333333333333,0.25483333333333336,0.2935,0.33475,0.37625,0.41783333333333333,0.45941666666666664,0.501,0.5425833333333333],\"type\":\"scatter\"}],                        {\"template\":{\"data\":{\"histogram2dcontour\":[{\"type\":\"histogram2dcontour\",\"colorbar\":{\"outlinewidth\":0,\"ticks\":\"\"},\"colorscale\":[[0.0,\"#0d0887\"],[0.1111111111111111,\"#46039f\"],[0.2222222222222222,\"#7201a8\"],[0.3333333333333333,\"#9c179e\"],[0.4444444444444444,\"#bd3786\"],[0.5555555555555556,\"#d8576b\"],[0.6666666666666666,\"#ed7953\"],[0.7777777777777778,\"#fb9f3a\"],[0.8888888888888888,\"#fdca26\"],[1.0,\"#f0f921\"]]}],\"choropleth\":[{\"type\":\"choropleth\",\"colorbar\":{\"outlinewidth\":0,\"ticks\":\"\"}}],\"histogram2d\":[{\"type\":\"histogram2d\",\"colorbar\":{\"outlinewidth\":0,\"ticks\":\"\"},\"colorscale\":[[0.0,\"#0d0887\"],[0.1111111111111111,\"#46039f\"],[0.2222222222222222,\"#7201a8\"],[0.3333333333333333,\"#9c179e\"],[0.4444444444444444,\"#bd3786\"],[0.5555555555555556,\"#d8576b\"],[0.6666666666666666,\"#ed7953\"],[0.7777777777777778,\"#fb9f3a\"],[0.8888888888888888,\"#fdca26\"],[1.0,\"#f0f921\"]]}],\"heatmap\":[{\"type\":\"heatmap\",\"colorbar\":{\"outlinewidth\":0,\"ticks\":\"\"},\"colorscale\":[[0.0,\"#0d0887\"],[0.1111111111111111,\"#46039f\"],[0.2222222222222222,\"#7201a8\"],[0.3333333333333333,\"#9c179e\"],[0.4444444444444444,\"#bd3786\"],[0.5555555555555556,\"#d8576b\"],[0.6666666666666666,\"#ed7953\"],[0.7777777777777778,\"#fb9f3a\"],[0.8888888888888888,\"#fdca26\"],[1.0,\"#f0f921\"]]}],\"heatmapgl\":[{\"type\":\"heatmapgl\",\"colorbar\":{\"outlinewidth\":0,\"ticks\":\"\"},\"colorscale\":[[0.0,\"#0d0887\"],[0.1111111111111111,\"#46039f\"],[0.2222222222222222,\"#7201a8\"],[0.3333333333333333,\"#9c179e\"],[0.4444444444444444,\"#bd3786\"],[0.5555555555555556,\"#d8576b\"],[0.6666666666666666,\"#ed7953\"],[0.7777777777777778,\"#fb9f3a\"],[0.8888888888888888,\"#fdca26\"],[1.0,\"#f0f921\"]]}],\"contourcarpet\":[{\"type\":\"contourcarpet\",\"colorbar\":{\"outlinewidth\":0,\"ticks\":\"\"}}],\"contour\":[{\"type\":\"contour\",\"colorbar\":{\"outlinewidth\":0,\"ticks\":\"\"},\"colorscale\":[[0.0,\"#0d0887\"],[0.1111111111111111,\"#46039f\"],[0.2222222222222222,\"#7201a8\"],[0.3333333333333333,\"#9c179e\"],[0.4444444444444444,\"#bd3786\"],[0.5555555555555556,\"#d8576b\"],[0.6666666666666666,\"#ed7953\"],[0.7777777777777778,\"#fb9f3a\"],[0.8888888888888888,\"#fdca26\"],[1.0,\"#f0f921\"]]}],\"surface\":[{\"type\":\"surface\",\"colorbar\":{\"outlinewidth\":0,\"ticks\":\"\"},\"colorscale\":[[0.0,\"#0d0887\"],[0.1111111111111111,\"#46039f\"],[0.2222222222222222,\"#7201a8\"],[0.3333333333333333,\"#9c179e\"],[0.4444444444444444,\"#bd3786\"],[0.5555555555555556,\"#d8576b\"],[0.6666666666666666,\"#ed7953\"],[0.7777777777777778,\"#fb9f3a\"],[0.8888888888888888,\"#fdca26\"],[1.0,\"#f0f921\"]]}],\"mesh3d\":[{\"type\":\"mesh3d\",\"colorbar\":{\"outlinewidth\":0,\"ticks\":\"\"}}],\"scatter\":[{\"fillpattern\":{\"fillmode\":\"overlay\",\"size\":10,\"solidity\":0.2},\"type\":\"scatter\"}],\"parcoords\":[{\"type\":\"parcoords\",\"line\":{\"colorbar\":{\"outlinewidth\":0,\"ticks\":\"\"}}}],\"scatterpolargl\":[{\"type\":\"scatterpolargl\",\"marker\":{\"colorbar\":{\"outlinewidth\":0,\"ticks\":\"\"}}}],\"bar\":[{\"error_x\":{\"color\":\"#2a3f5f\"},\"error_y\":{\"color\":\"#2a3f5f\"},\"marker\":{\"line\":{\"color\":\"#E5ECF6\",\"width\":0.5},\"pattern\":{\"fillmode\":\"overlay\",\"size\":10,\"solidity\":0.2}},\"type\":\"bar\"}],\"scattergeo\":[{\"type\":\"scattergeo\",\"marker\":{\"colorbar\":{\"outlinewidth\":0,\"ticks\":\"\"}}}],\"scatterpolar\":[{\"type\":\"scatterpolar\",\"marker\":{\"colorbar\":{\"outlinewidth\":0,\"ticks\":\"\"}}}],\"histogram\":[{\"marker\":{\"pattern\":{\"fillmode\":\"overlay\",\"size\":10,\"solidity\":0.2}},\"type\":\"histogram\"}],\"scattergl\":[{\"type\":\"scattergl\",\"marker\":{\"colorbar\":{\"outlinewidth\":0,\"ticks\":\"\"}}}],\"scatter3d\":[{\"type\":\"scatter3d\",\"line\":{\"colorbar\":{\"outlinewidth\":0,\"ticks\":\"\"}},\"marker\":{\"colorbar\":{\"outlinewidth\":0,\"ticks\":\"\"}}}],\"scattermapbox\":[{\"type\":\"scattermapbox\",\"marker\":{\"colorbar\":{\"outlinewidth\":0,\"ticks\":\"\"}}}],\"scatterternary\":[{\"type\":\"scatterternary\",\"marker\":{\"colorbar\":{\"outlinewidth\":0,\"ticks\":\"\"}}}],\"scattercarpet\":[{\"type\":\"scattercarpet\",\"marker\":{\"colorbar\":{\"outlinewidth\":0,\"ticks\":\"\"}}}],\"carpet\":[{\"aaxis\":{\"endlinecolor\":\"#2a3f5f\",\"gridcolor\":\"white\",\"linecolor\":\"white\",\"minorgridcolor\":\"white\",\"startlinecolor\":\"#2a3f5f\"},\"baxis\":{\"endlinecolor\":\"#2a3f5f\",\"gridcolor\":\"white\",\"linecolor\":\"white\",\"minorgridcolor\":\"white\",\"startlinecolor\":\"#2a3f5f\"},\"type\":\"carpet\"}],\"table\":[{\"cells\":{\"fill\":{\"color\":\"#EBF0F8\"},\"line\":{\"color\":\"white\"}},\"header\":{\"fill\":{\"color\":\"#C8D4E3\"},\"line\":{\"color\":\"white\"}},\"type\":\"table\"}],\"barpolar\":[{\"marker\":{\"line\":{\"color\":\"#E5ECF6\",\"width\":0.5},\"pattern\":{\"fillmode\":\"overlay\",\"size\":10,\"solidity\":0.2}},\"type\":\"barpolar\"}],\"pie\":[{\"automargin\":true,\"type\":\"pie\"}]},\"layout\":{\"autotypenumbers\":\"strict\",\"colorway\":[\"#636efa\",\"#EF553B\",\"#00cc96\",\"#ab63fa\",\"#FFA15A\",\"#19d3f3\",\"#FF6692\",\"#B6E880\",\"#FF97FF\",\"#FECB52\"],\"font\":{\"color\":\"#2a3f5f\"},\"hovermode\":\"closest\",\"hoverlabel\":{\"align\":\"left\"},\"paper_bgcolor\":\"white\",\"plot_bgcolor\":\"#E5ECF6\",\"polar\":{\"bgcolor\":\"#E5ECF6\",\"angularaxis\":{\"gridcolor\":\"white\",\"linecolor\":\"white\",\"ticks\":\"\"},\"radialaxis\":{\"gridcolor\":\"white\",\"linecolor\":\"white\",\"ticks\":\"\"}},\"ternary\":{\"bgcolor\":\"#E5ECF6\",\"aaxis\":{\"gridcolor\":\"white\",\"linecolor\":\"white\",\"ticks\":\"\"},\"baxis\":{\"gridcolor\":\"white\",\"linecolor\":\"white\",\"ticks\":\"\"},\"caxis\":{\"gridcolor\":\"white\",\"linecolor\":\"white\",\"ticks\":\"\"}},\"coloraxis\":{\"colorbar\":{\"outlinewidth\":0,\"ticks\":\"\"}},\"colorscale\":{\"sequential\":[[0.0,\"#0d0887\"],[0.1111111111111111,\"#46039f\"],[0.2222222222222222,\"#7201a8\"],[0.3333333333333333,\"#9c179e\"],[0.4444444444444444,\"#bd3786\"],[0.5555555555555556,\"#d8576b\"],[0.6666666666666666,\"#ed7953\"],[0.7777777777777778,\"#fb9f3a\"],[0.8888888888888888,\"#fdca26\"],[1.0,\"#f0f921\"]],\"sequentialminus\":[[0.0,\"#0d0887\"],[0.1111111111111111,\"#46039f\"],[0.2222222222222222,\"#7201a8\"],[0.3333333333333333,\"#9c179e\"],[0.4444444444444444,\"#bd3786\"],[0.5555555555555556,\"#d8576b\"],[0.6666666666666666,\"#ed7953\"],[0.7777777777777778,\"#fb9f3a\"],[0.8888888888888888,\"#fdca26\"],[1.0,\"#f0f921\"]],\"diverging\":[[0,\"#8e0152\"],[0.1,\"#c51b7d\"],[0.2,\"#de77ae\"],[0.3,\"#f1b6da\"],[0.4,\"#fde0ef\"],[0.5,\"#f7f7f7\"],[0.6,\"#e6f5d0\"],[0.7,\"#b8e186\"],[0.8,\"#7fbc41\"],[0.9,\"#4d9221\"],[1,\"#276419\"]]},\"xaxis\":{\"gridcolor\":\"white\",\"linecolor\":\"white\",\"ticks\":\"\",\"title\":{\"standoff\":15},\"zerolinecolor\":\"white\",\"automargin\":true,\"zerolinewidth\":2},\"yaxis\":{\"gridcolor\":\"white\",\"linecolor\":\"white\",\"ticks\":\"\",\"title\":{\"standoff\":15},\"zerolinecolor\":\"white\",\"automargin\":true,\"zerolinewidth\":2},\"scene\":{\"xaxis\":{\"backgroundcolor\":\"#E5ECF6\",\"gridcolor\":\"white\",\"linecolor\":\"white\",\"showbackground\":true,\"ticks\":\"\",\"zerolinecolor\":\"white\",\"gridwidth\":2},\"yaxis\":{\"backgroundcolor\":\"#E5ECF6\",\"gridcolor\":\"white\",\"linecolor\":\"white\",\"showbackground\":true,\"ticks\":\"\",\"zerolinecolor\":\"white\",\"gridwidth\":2},\"zaxis\":{\"backgroundcolor\":\"#E5ECF6\",\"gridcolor\":\"white\",\"linecolor\":\"white\",\"showbackground\":true,\"ticks\":\"\",\"zerolinecolor\":\"white\",\"gridwidth\":2}},\"shapedefaults\":{\"line\":{\"color\":\"#2a3f5f\"}},\"annotationdefaults\":{\"arrowcolor\":\"#2a3f5f\",\"arrowhead\":0,\"arrowwidth\":1},\"geo\":{\"bgcolor\":\"white\",\"landcolor\":\"#E5ECF6\",\"subunitcolor\":\"white\",\"showland\":true,\"showlakes\":true,\"lakecolor\":\"white\"},\"title\":{\"x\":0.05},\"mapbox\":{\"style\":\"light\"}}},\"font\":{\"family\":\"Courier New, monospace\",\"size\":18,\"color\":\"RebeccaPurple\"},\"title\":{\"text\":\"Compression Ratio against Golomb Parameter\"},\"xaxis\":{\"title\":{\"text\":\"Golomb Parameter\"}},\"yaxis\":{\"title\":{\"text\":\"Compression ratio\"}}},                        {\"responsive\": true}                    ).then(function(){\n",
              "                            \n",
              "var gd = document.getElementById('92423a99-6fcb-4ee4-bbc5-73856ef69bc4');\n",
              "var x = new MutationObserver(function (mutations, observer) {{\n",
              "        var display = window.getComputedStyle(gd).display;\n",
              "        if (!display || display === 'none') {{\n",
              "            console.log([gd, 'removed!']);\n",
              "            Plotly.purge(gd);\n",
              "            observer.disconnect();\n",
              "        }}\n",
              "}});\n",
              "\n",
              "// Listen for the removal of the full notebook cells\n",
              "var notebookContainer = gd.closest('#notebook-container');\n",
              "if (notebookContainer) {{\n",
              "    x.observe(notebookContainer, {childList: true});\n",
              "}}\n",
              "\n",
              "// Listen for the clearing of the current output cell\n",
              "var outputEl = gd.closest('.output');\n",
              "if (outputEl) {{\n",
              "    x.observe(outputEl, {childList: true});\n",
              "}}\n",
              "\n",
              "                        })                };                            </script>        </div>\n",
              "</body>\n",
              "</html>"
            ]
          },
          "metadata": {}
        }
      ]
    },
    {
      "cell_type": "markdown",
      "source": [
        "**this interactive plot suggest that the lowest value you can get is 3**"
      ],
      "metadata": {
        "id": "FF6dkrdx_Jix"
      }
    }
  ]
}